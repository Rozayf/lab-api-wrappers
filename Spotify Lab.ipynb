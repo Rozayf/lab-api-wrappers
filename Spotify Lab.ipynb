{
 "cells": [
  {
   "cell_type": "code",
   "execution_count": 1,
   "id": "73cb6b15",
   "metadata": {},
   "outputs": [],
   "source": [
    "import spotipy\n",
    "from spotipy.oauth2 import SpotifyClientCredentials\n"
   ]
  },
  {
   "cell_type": "code",
   "execution_count": 2,
   "id": "431c9d9c",
   "metadata": {},
   "outputs": [],
   "source": [
    "secrets_file = open(\"secrets.txt\",\"r\")"
   ]
  },
  {
   "cell_type": "code",
   "execution_count": 3,
   "id": "9e4b4560",
   "metadata": {},
   "outputs": [],
   "source": [
    "string = secrets_file.read()"
   ]
  },
  {
   "cell_type": "code",
   "execution_count": 4,
   "id": "8523bcb9",
   "metadata": {},
   "outputs": [
    {
     "data": {
      "text/plain": [
       "'clientid:0dcff31b926a4a9195f3fc708c2657b8\\nsecret:53b4e01d5df242e5bdc6343bac764ab9'"
      ]
     },
     "execution_count": 4,
     "metadata": {},
     "output_type": "execute_result"
    }
   ],
   "source": [
    "string"
   ]
  },
  {
   "cell_type": "code",
   "execution_count": 5,
   "id": "2c8b6c0d",
   "metadata": {},
   "outputs": [
    {
     "data": {
      "text/plain": [
       "['clientid:0dcff31b926a4a9195f3fc708c2657b8',\n",
       " 'secret:53b4e01d5df242e5bdc6343bac764ab9']"
      ]
     },
     "execution_count": 5,
     "metadata": {},
     "output_type": "execute_result"
    }
   ],
   "source": [
    "string.split('\\n')"
   ]
  },
  {
   "cell_type": "code",
   "execution_count": 6,
   "id": "84a81334",
   "metadata": {},
   "outputs": [],
   "source": [
    "secrets_dict={}\n",
    "for line in string.split('\\n'):\n",
    "    if len(line) > 0:\n",
    "        secrets_dict[line.split(':')[0]]=line.split(':')[1].strip()"
   ]
  },
  {
   "cell_type": "code",
   "execution_count": 7,
   "id": "56ba9634",
   "metadata": {},
   "outputs": [
    {
     "data": {
      "text/plain": [
       "{'clientid': '0dcff31b926a4a9195f3fc708c2657b8',\n",
       " 'secret': '53b4e01d5df242e5bdc6343bac764ab9'}"
      ]
     },
     "execution_count": 7,
     "metadata": {},
     "output_type": "execute_result"
    }
   ],
   "source": [
    "secrets_dict"
   ]
  },
  {
   "cell_type": "code",
   "execution_count": 8,
   "id": "4eddc3b3",
   "metadata": {},
   "outputs": [],
   "source": [
    "import spotipy\n",
    "from spotipy.oauth2 import SpotifyClientCredentials\n",
    "\n",
    "#Initialize SpotiPy with user credentials\n",
    "sp = spotipy.Spotify(auth_manager=SpotifyClientCredentials(client_id=secrets_dict['clientid'],\n",
    "                                                           client_secret=secrets_dict['secret']))"
   ]
  },
  {
   "cell_type": "code",
   "execution_count": 9,
   "id": "35c28e5e",
   "metadata": {},
   "outputs": [],
   "source": [
    "import pandas as pd\n",
    "from pandas import json_normalize"
   ]
  },
  {
   "cell_type": "markdown",
   "id": "1e282166",
   "metadata": {},
   "source": [
    "# Playlist (2000's)"
   ]
  },
  {
   "cell_type": "code",
   "execution_count": 10,
   "id": "f62bd32c",
   "metadata": {},
   "outputs": [],
   "source": [
    "playlist = sp.user_playlist_tracks(\"spotify\", \"37i9dQZF1DX4o1oenSJRJd\")"
   ]
  },
  {
   "cell_type": "code",
   "execution_count": 11,
   "id": "c9a344ae",
   "metadata": {},
   "outputs": [
    {
     "data": {
      "text/plain": [
       "dict_keys(['href', 'items', 'limit', 'next', 'offset', 'previous', 'total'])"
      ]
     },
     "execution_count": 11,
     "metadata": {},
     "output_type": "execute_result"
    }
   ],
   "source": [
    "playlist.keys() "
   ]
  },
  {
   "cell_type": "code",
   "execution_count": 12,
   "id": "859b92cd",
   "metadata": {},
   "outputs": [
    {
     "data": {
      "text/plain": [
       "'Yellow'"
      ]
     },
     "execution_count": 12,
     "metadata": {},
     "output_type": "execute_result"
    }
   ],
   "source": [
    "playlist[\"items\"][0][\"track\"][\"name\"]"
   ]
  },
  {
   "cell_type": "code",
   "execution_count": 13,
   "id": "d4efc234",
   "metadata": {},
   "outputs": [
    {
     "data": {
      "text/plain": [
       "150"
      ]
     },
     "execution_count": 13,
     "metadata": {},
     "output_type": "execute_result"
    }
   ],
   "source": [
    "playlist[\"total\"] "
   ]
  },
  {
   "cell_type": "code",
   "execution_count": 14,
   "id": "8cdfe2ec",
   "metadata": {},
   "outputs": [
    {
     "data": {
      "text/plain": [
       "100"
      ]
     },
     "execution_count": 14,
     "metadata": {},
     "output_type": "execute_result"
    }
   ],
   "source": [
    "len(playlist[\"items\"])"
   ]
  },
  {
   "cell_type": "code",
   "execution_count": 15,
   "id": "cca6a861",
   "metadata": {},
   "outputs": [],
   "source": [
    "from random import randint\n",
    "from time import sleep\n",
    "\n",
    "def get_playlist_tracks(playlist_id):\n",
    "    results = sp.user_playlist_tracks(\"spotify\",playlist_id)\n",
    "    tracks = results['items']\n",
    "    while results['next']!=None:\n",
    "        results = sp.next(results)\n",
    "        tracks = tracks + results['items']\n",
    "        sleep(randint(1,3))\n",
    "    return tracks"
   ]
  },
  {
   "cell_type": "code",
   "execution_count": 16,
   "id": "987c2c6f",
   "metadata": {},
   "outputs": [
    {
     "data": {
      "text/plain": [
       "150"
      ]
     },
     "execution_count": 16,
     "metadata": {},
     "output_type": "execute_result"
    }
   ],
   "source": [
    "all_tracks_2000 = get_playlist_tracks(\"37i9dQZF1DX4o1oenSJRJd\")\n",
    "len(all_tracks_2000)"
   ]
  },
  {
   "cell_type": "code",
   "execution_count": 17,
   "id": "7930a811",
   "metadata": {},
   "outputs": [
    {
     "data": {
      "text/plain": [
       "'Yellow'"
      ]
     },
     "execution_count": 17,
     "metadata": {},
     "output_type": "execute_result"
    }
   ],
   "source": [
    "all_tracks_2000[0]['track']['name']"
   ]
  },
  {
   "cell_type": "code",
   "execution_count": 18,
   "id": "17492a16",
   "metadata": {},
   "outputs": [],
   "source": [
    "def get_name_artist_from_track(track):\n",
    "    return [(track['name'],artist['name'],track['uri']) for artist in track['artists']]"
   ]
  },
  {
   "cell_type": "code",
   "execution_count": 19,
   "id": "45c529ce",
   "metadata": {},
   "outputs": [
    {
     "data": {
      "text/plain": [
       "[(\"Hips Don't Lie (feat. Wyclef Jean)\",\n",
       "  'Shakira',\n",
       "  'spotify:track:3ZFTkvIE7kyPt6Nu3PEa7V'),\n",
       " (\"Hips Don't Lie (feat. Wyclef Jean)\",\n",
       "  'Wyclef Jean',\n",
       "  'spotify:track:3ZFTkvIE7kyPt6Nu3PEa7V')]"
      ]
     },
     "execution_count": 19,
     "metadata": {},
     "output_type": "execute_result"
    }
   ],
   "source": [
    "get_name_artist_from_track(all_tracks_2000[3]['track'])"
   ]
  },
  {
   "cell_type": "code",
   "execution_count": 20,
   "id": "b27d8628",
   "metadata": {},
   "outputs": [],
   "source": [
    "def get_name_artist_from_playlist_item(playlist_item):\n",
    "    return get_name_artist_from_track(playlist_item['track'])"
   ]
  },
  {
   "cell_type": "code",
   "execution_count": 21,
   "id": "faf84208",
   "metadata": {},
   "outputs": [
    {
     "data": {
      "text/plain": [
       "[(\"Hips Don't Lie (feat. Wyclef Jean)\",\n",
       "  'Shakira',\n",
       "  'spotify:track:3ZFTkvIE7kyPt6Nu3PEa7V'),\n",
       " (\"Hips Don't Lie (feat. Wyclef Jean)\",\n",
       "  'Wyclef Jean',\n",
       "  'spotify:track:3ZFTkvIE7kyPt6Nu3PEa7V')]"
      ]
     },
     "execution_count": 21,
     "metadata": {},
     "output_type": "execute_result"
    }
   ],
   "source": [
    "get_name_artist_from_playlist_item(all_tracks_2000[3])"
   ]
  },
  {
   "cell_type": "code",
   "execution_count": 22,
   "id": "7f972ea2",
   "metadata": {},
   "outputs": [],
   "source": [
    "def flatten(input_list):\n",
    "    return [item for sublist in input_list for item in sublist]"
   ]
  },
  {
   "cell_type": "code",
   "execution_count": 23,
   "id": "5beb2b74",
   "metadata": {},
   "outputs": [],
   "source": [
    "def get_name_artist_from_playlist(input_playlist):\n",
    "    return list(map(get_name_artist_from_playlist_item,input_playlist))"
   ]
  },
  {
   "cell_type": "code",
   "execution_count": 24,
   "id": "1dae8261",
   "metadata": {},
   "outputs": [
    {
     "data": {
      "text/plain": [
       "[[('Yellow', 'Coldplay', 'spotify:track:3AJwUDP919kvQ9QcozQPxg')],\n",
       " [('Without Me', 'Eminem', 'spotify:track:7lQ8MOhq6IN2w8EYcFNSUk')],\n",
       " [('In the End', 'Linkin Park', 'spotify:track:60a0Rd6pjrkxjPbaKzXjfq')],\n",
       " [(\"Hips Don't Lie (feat. Wyclef Jean)\",\n",
       "   'Shakira',\n",
       "   'spotify:track:3ZFTkvIE7kyPt6Nu3PEa7V'),\n",
       "  (\"Hips Don't Lie (feat. Wyclef Jean)\",\n",
       "   'Wyclef Jean',\n",
       "   'spotify:track:3ZFTkvIE7kyPt6Nu3PEa7V')],\n",
       " [('Mr. Brightside', 'The Killers', 'spotify:track:003vvx7Niy0yvhvHt4a68B')],\n",
       " [('Flashing Lights', 'Kanye West', 'spotify:track:5TRPicyLGbAF2LGBFbHGvO'),\n",
       "  ('Flashing Lights', 'Dwele', 'spotify:track:5TRPicyLGbAF2LGBFbHGvO')],\n",
       " [('Seven Nation Army',\n",
       "   'The White Stripes',\n",
       "   'spotify:track:3dPQuX8Gs42Y7b454ybpMR')],\n",
       " [('Feel Good Inc.', 'Gorillaz', 'spotify:track:0d28khcov6AiegSCpG5TuT')],\n",
       " [('Viva La Vida', 'Coldplay', 'spotify:track:1mea3bSkSGXuIRvnydlB5b')],\n",
       " [('Numb', 'Linkin Park', 'spotify:track:2nLtzopw4rPReszdYBJU6h')],\n",
       " [('The Real Slim Shady', 'Eminem', 'spotify:track:3yfqSUWxFvZELEM4PmlwIR')],\n",
       " [('Heartless', 'Kanye West', 'spotify:track:4EWCNWgDS8707fNSZ1oaA5')],\n",
       " [('Umbrella', 'Rihanna', 'spotify:track:49FYlytm3dAAraYgpoJZux'),\n",
       "  ('Umbrella', 'JAY-Z', 'spotify:track:49FYlytm3dAAraYgpoJZux')],\n",
       " [('Promiscuous', 'Nelly Furtado', 'spotify:track:2gam98EZKrF9XuOkU13ApN'),\n",
       "  ('Promiscuous', 'Timbaland', 'spotify:track:2gam98EZKrF9XuOkU13ApN')],\n",
       " [('Pumped Up Kicks',\n",
       "   'Foster The People',\n",
       "   'spotify:track:7w87IxuO7BDcJ3YUqCyMTT')],\n",
       " [('The Scientist', 'Coldplay', 'spotify:track:75JFxkI2RXiU7L9VXzMkle')],\n",
       " [('Till I Collapse', 'Eminem', 'spotify:track:4xkOaSrkexMciUUogZKVTS'),\n",
       "  ('Till I Collapse', 'Nate Dogg', 'spotify:track:4xkOaSrkexMciUUogZKVTS')],\n",
       " [('Bring Me To Life', 'Evanescence', 'spotify:track:0COqiPhxzoWICwFCS4eZcp')],\n",
       " [('Hey, Soul Sister', 'Train', 'spotify:track:4HlFJV71xXKIGcU3kRyttv')],\n",
       " [('Yeah! (feat. Lil Jon & Ludacris)',\n",
       "   'Usher',\n",
       "   'spotify:track:5rb9QrpfcKFHM1EUbSIurX'),\n",
       "  ('Yeah! (feat. Lil Jon & Ludacris)',\n",
       "   'Lil Jon',\n",
       "   'spotify:track:5rb9QrpfcKFHM1EUbSIurX'),\n",
       "  ('Yeah! (feat. Lil Jon & Ludacris)',\n",
       "   'Ludacris',\n",
       "   'spotify:track:5rb9QrpfcKFHM1EUbSIurX')],\n",
       " [('Gasolina', 'Daddy Yankee', 'spotify:track:228BxWXUYQPJrJYHDLOHkj')],\n",
       " [('Empire State Of Mind', 'JAY-Z', 'spotify:track:2igwFfvr1OAGX9SKDCPBwO'),\n",
       "  ('Empire State Of Mind',\n",
       "   'Alicia Keys',\n",
       "   'spotify:track:2igwFfvr1OAGX9SKDCPBwO')],\n",
       " [('Bad Romance', 'Lady Gaga', 'spotify:track:0SiywuOBRcynK0uKGWdCnn')],\n",
       " [('Hey Ya!', 'Outkast', 'spotify:track:2PpruBYCo4H7WOBJ7Q2EwM')],\n",
       " [('Fix You', 'Coldplay', 'spotify:track:7LVHVU3tWfcxj5aiPFEW4Q')],\n",
       " [('Stan', 'Eminem', 'spotify:track:3UmaczJpikHgJFyBTAJVoz'),\n",
       "  ('Stan', 'Dido', 'spotify:track:3UmaczJpikHgJFyBTAJVoz')],\n",
       " [('TiK ToK', 'Kesha', 'spotify:track:0HPD5WQqrq7wPWR7P7Dw1i')],\n",
       " [(\"Can't Stop\",\n",
       "   'Red Hot Chili Peppers',\n",
       "   'spotify:track:3ZOEytgrvLwQaqXreDs2Jx')],\n",
       " [('Sex on Fire', 'Kings of Leon', 'spotify:track:0ntQJM78wzOLVeCUAW7Y45')],\n",
       " [('Hate It Or Love It', 'The Game', 'spotify:track:2wGSgTmgSF3xjRrHkTc25R'),\n",
       "  ('Hate It Or Love It', '50 Cent', 'spotify:track:2wGSgTmgSF3xjRrHkTc25R')],\n",
       " [('Clocks', 'Coldplay', 'spotify:track:0BCPKOYdS2jbQ8iyB56Zns')],\n",
       " [('The Reason', 'Hoobastank', 'spotify:track:77loZpT5Y5PRP1S451P9Yz')],\n",
       " [('Ms. Jackson', 'Outkast', 'spotify:track:0I3q5fE6wg7LIfHGngUTnV')],\n",
       " [('Smack That', 'Akon', 'spotify:track:2kQuhkFX7uSVepCD3h29g5'),\n",
       "  ('Smack That', 'Eminem', 'spotify:track:2kQuhkFX7uSVepCD3h29g5')],\n",
       " [('Stronger', 'Kanye West', 'spotify:track:0j2T0R9dR9qdJYsB7ciXhf')],\n",
       " [('The Way I Are', 'Timbaland', 'spotify:track:2bLqfJjuC5syrsgDsZfGmn'),\n",
       "  ('The Way I Are', 'Keri Hilson', 'spotify:track:2bLqfJjuC5syrsgDsZfGmn'),\n",
       "  ('The Way I Are', 'D.O.E.', 'spotify:track:2bLqfJjuC5syrsgDsZfGmn')],\n",
       " [('The Middle', 'Jimmy Eat World', 'spotify:track:6GG73Jik4jUlQCkKg9JuGO')],\n",
       " [('Whenever, Wherever', 'Shakira', 'spotify:track:2lnzGkdtDj5mtlcOW2yRtG')],\n",
       " [('Last Resort', 'Papa Roach', 'spotify:track:5W8YXBz9MTIDyrpYaCg2Ky')],\n",
       " [('The Next Episode', 'Dr. Dre', 'spotify:track:4LwU4Vp6od3Sb08CsP99GC'),\n",
       "  ('The Next Episode', 'Snoop Dogg', 'spotify:track:4LwU4Vp6od3Sb08CsP99GC')],\n",
       " [('Low (feat. T-Pain)', 'Flo Rida', 'spotify:track:0CAfXk7DXMnon4gLudAp7J'),\n",
       "  ('Low (feat. T-Pain)', 'T-Pain', 'spotify:track:0CAfXk7DXMnon4gLudAp7J')],\n",
       " [('Alright', 'Kendrick Lamar', 'spotify:track:3iVcZ5G6tvkXZkZKlMpIUs')],\n",
       " [('Chasing Cars', 'Snow Patrol', 'spotify:track:5hnyJvgoWiQUYZttV4wXy6')],\n",
       " [('Temperature', 'Sean Paul', 'spotify:track:0k2GOhqsrxDTAbFFSdNJjT')],\n",
       " [(\"If I Ain't Got You\",\n",
       "   'Alicia Keys',\n",
       "   'spotify:track:3XVBdLihbNbxUwZosxcGuJ')],\n",
       " [('Candy Shop', '50 Cent', 'spotify:track:5D2mYZuzcgjpchVY1pmTPh'),\n",
       "  ('Candy Shop', 'Olivia', 'spotify:track:5D2mYZuzcgjpchVY1pmTPh')],\n",
       " [('Say It Right', 'Nelly Furtado', 'spotify:track:2aI21FnmY7TJVKeMaoQZ0t')],\n",
       " [(\"Don't Stop The Music\", 'Rihanna', 'spotify:track:0ByMNEPAPpOR5H69DVrTNy')],\n",
       " [('Dynamite', 'Taio Cruz', 'spotify:track:2CEgGE6aESpnmtfiZwYlbV')],\n",
       " [('Where Is The Love?',\n",
       "   'Black Eyed Peas',\n",
       "   'spotify:track:0xmjwnQ3FNE6HuWCt2nHdZ')],\n",
       " [('How You Remind Me', 'Nickelback', 'spotify:track:0gmbgwZ8iqyMPmXefof8Yf')],\n",
       " [('Gold Digger', 'Kanye West', 'spotify:track:1PS1QMdUqOal0ai3Gt7sDQ'),\n",
       "  ('Gold Digger', 'Jamie Foxx', 'spotify:track:1PS1QMdUqOal0ai3Gt7sDQ')],\n",
       " [('Gimme More', 'Britney Spears', 'spotify:track:6ic8OlLUNEATToEFU3xmaH')],\n",
       " [('Maneater', 'Nelly Furtado', 'spotify:track:4wH4dJgrsxONID6KS2tDQM')],\n",
       " [('Forgot About Dre', 'Dr. Dre', 'spotify:track:7iXF2W9vKmDoGAhlHdpyIa'),\n",
       "  ('Forgot About Dre', 'Eminem', 'spotify:track:7iXF2W9vKmDoGAhlHdpyIa')],\n",
       " [('This Love', 'Maroon 5', 'spotify:track:6ECp64rv50XVz93WvxXMGF')],\n",
       " [('How to Save a Life', 'The Fray', 'spotify:track:5fVZC9GiM4e8vu99W0Xf6J')],\n",
       " [('Walking On A Dream',\n",
       "   'Empire of the Sun',\n",
       "   'spotify:track:5r5cp9IpziiIsR6b93vcnQ')],\n",
       " [('All Falls Down', 'Kanye West', 'spotify:track:5SkRLpaGtvYPhw02vZhQQ9'),\n",
       "  ('All Falls Down',\n",
       "   'Syleena Johnson',\n",
       "   'spotify:track:5SkRLpaGtvYPhw02vZhQQ9')],\n",
       " [('Complicated', 'Avril Lavigne', 'spotify:track:5xEM5hIgJ1jjgcEBfpkt2F')],\n",
       " [('Take Me Out', 'Franz Ferdinand', 'spotify:track:20I8RduZC2PWMWTDCZuuAN')],\n",
       " [(\"It Wasn't Me\", 'Shaggy', 'spotify:track:3WkibOpDF7cQ5xntM1epyf'),\n",
       "  (\"It Wasn't Me\", 'Rik Rok', 'spotify:track:3WkibOpDF7cQ5xntM1epyf')],\n",
       " [('Run This Town', 'JAY-Z', 'spotify:track:7LR85XLWw2yXqKBSI5brbG'),\n",
       "  ('Run This Town', 'Rihanna', 'spotify:track:7LR85XLWw2yXqKBSI5brbG'),\n",
       "  ('Run This Town', 'Kanye West', 'spotify:track:7LR85XLWw2yXqKBSI5brbG')],\n",
       " [('She Will Be Loved - Radio Mix',\n",
       "   'Maroon 5',\n",
       "   'spotify:track:4llK75pXNWZz6KAho2Gp16')],\n",
       " [('Pon de Replay', 'Rihanna', 'spotify:track:4TsmezEQVSZNNPv5RJ65Ov')],\n",
       " [('Back To Black', 'Amy Winehouse', 'spotify:track:3FAclTFfvUuQYnEsptbK8w')],\n",
       " [('This Is The Life',\n",
       "   'Amy Macdonald',\n",
       "   'spotify:track:2T3jgoAMbBXiMMD8pSc6QL')],\n",
       " [('Put Your Records On',\n",
       "   'Corinne Bailey Rae',\n",
       "   'spotify:track:2nGFzvICaeEWjIrBrL2RAx')],\n",
       " [('The Pretender', 'Foo Fighters', 'spotify:track:7x8dCjCr0x6x2lXKujYD34')],\n",
       " [('Alors on danse - Radio Edit',\n",
       "   'Stromae',\n",
       "   'spotify:track:2GYHyAoLWpkxLVa4oYTVko')],\n",
       " [('Crazy In Love (feat. Jay-Z)',\n",
       "   'Beyoncé',\n",
       "   'spotify:track:5IVuqXILoxVWvWEPm82Jxr'),\n",
       "  ('Crazy In Love (feat. Jay-Z)',\n",
       "   'JAY-Z',\n",
       "   'spotify:track:5IVuqXILoxVWvWEPm82Jxr')],\n",
       " [('Oops!...I Did It Again',\n",
       "   'Britney Spears',\n",
       "   'spotify:track:6naxalmIoLFWR0siv8dnQQ')],\n",
       " [('Raise Your Glass', 'P!nk', 'spotify:track:1gv4xPanImH17bKZ9rOveR')],\n",
       " [('Hey There Delilah',\n",
       "   \"Plain White T's\",\n",
       "   'spotify:track:4RCWB3V8V0dignt99LZ8vH')],\n",
       " [('Thnks fr th Mmrs',\n",
       "   'Fall Out Boy',\n",
       "   'spotify:track:3Zwu2K0Qa5sT6teCCHPShP')],\n",
       " [('SexyBack (feat. Timbaland)',\n",
       "   'Justin Timberlake',\n",
       "   'spotify:track:0O45fw2L5vsWpdsOdXwNAR'),\n",
       "  ('SexyBack (feat. Timbaland)',\n",
       "   'Timbaland',\n",
       "   'spotify:track:0O45fw2L5vsWpdsOdXwNAR')],\n",
       " [('My Boo', 'Usher', 'spotify:track:68vgtRHr7iZHpzGpon6Jlo'),\n",
       "  ('My Boo', 'Alicia Keys', 'spotify:track:68vgtRHr7iZHpzGpon6Jlo')],\n",
       " [('I Knew You Were Trouble.',\n",
       "   'Taylor Swift',\n",
       "   'spotify:track:6FB3v4YcR57y4tXFcdxI1E')],\n",
       " [('Dilemma', 'Nelly', 'spotify:track:0ARK753YaiJbpLUk7z5yIM'),\n",
       "  ('Dilemma', 'Kelly Rowland', 'spotify:track:0ARK753YaiJbpLUk7z5yIM')],\n",
       " [('Rude Boy', 'Rihanna', 'spotify:track:60jzFy6Nn4M0iD1d94oteF')],\n",
       " [('Down', 'Jay Sean', 'spotify:track:6cmm1LMvZdB5zsCwX5BjqE'),\n",
       "  ('Down', 'Lil Wayne', 'spotify:track:6cmm1LMvZdB5zsCwX5BjqE')],\n",
       " [('Dancing in the Moonlight',\n",
       "   'Toploader',\n",
       "   'spotify:track:3Fzlg5r1IjhLk2qRw667od')],\n",
       " [('Beautiful Girls',\n",
       "   'Sean Kingston',\n",
       "   'spotify:track:1hGy2eLcmC8eKx7qr1tOqx')],\n",
       " [('Dog Days Are Over',\n",
       "   'Florence + The Machine',\n",
       "   'spotify:track:1YLJVmuzeM2YSUkCCaTNUB')],\n",
       " [(\"Sugar, We're Goin Down\",\n",
       "   'Fall Out Boy',\n",
       "   'spotify:track:2TfSHkHiFO4gRztVIkggkE')],\n",
       " [('So Sick', 'Ne-Yo', 'spotify:track:6brl7bwOHmGFkNw3MBqssT')],\n",
       " [('Fireflies', 'Owl City', 'spotify:track:3DamFFqW32WihKkTVlwTYQ')],\n",
       " [('American Boy', 'Estelle', 'spotify:track:6etwirSInfuJrSOlogS6Sh'),\n",
       "  ('American Boy', 'Kanye West', 'spotify:track:6etwirSInfuJrSOlogS6Sh')],\n",
       " [('Dani California',\n",
       "   'Red Hot Chili Peppers',\n",
       "   'spotify:track:10Nmj3JCNoMeBQ87uw5j8k')],\n",
       " [('Disturbia', 'Rihanna', 'spotify:track:2VOomzT6VavJOGBeySqaMc')],\n",
       " [('Say My Name', \"Destiny's Child\", 'spotify:track:7H6ev70Weq6DdpZyyTmUXk')],\n",
       " [('Party In The U.S.A.',\n",
       "   'Miley Cyrus',\n",
       "   'spotify:track:5Q0Nhxo0l2bP3pNjpGJwV1')],\n",
       " [('Kids', 'MGMT', 'spotify:track:1jJci4qxiYcOHhQR247rEU')],\n",
       " [('Give It To Me', 'Timbaland', 'spotify:track:0wbDgMuAoy7O7pL3a69uZx'),\n",
       "  ('Give It To Me',\n",
       "   'Justin Timberlake',\n",
       "   'spotify:track:0wbDgMuAoy7O7pL3a69uZx'),\n",
       "  ('Give It To Me', 'Nelly Furtado', 'spotify:track:0wbDgMuAoy7O7pL3a69uZx')],\n",
       " [('Welcome to the Black Parade',\n",
       "   'My Chemical Romance',\n",
       "   'spotify:track:5wQnmLuC1W7ATsArWACrgW')],\n",
       " [('Kiss Me Thru The Phone',\n",
       "   'Soulja Boy',\n",
       "   'spotify:track:2q4rjDy9WhaN3o9MvDbO21'),\n",
       "  ('Kiss Me Thru The Phone',\n",
       "   'Sammie',\n",
       "   'spotify:track:2q4rjDy9WhaN3o9MvDbO21')],\n",
       " [('Lose Yourself', 'Eminem', 'spotify:track:5Z01UMMf7V1o0MzF86s6WJ')],\n",
       " [('Lady - Hear Me Tonight', 'Modjo', 'spotify:track:49X0LAl6faAusYq02PRAY6')],\n",
       " [('Electric Feel', 'MGMT', 'spotify:track:3FtYbEfBqAlGO46NUDQSAt')],\n",
       " [('When You Were Young',\n",
       "   'The Killers',\n",
       "   'spotify:track:70wYA8oYHoMzhRRkARoMhU')],\n",
       " [('Rock Your Body',\n",
       "   'Justin Timberlake',\n",
       "   'spotify:track:1AWQoqb9bSvzTjaLralEkT')],\n",
       " [('So What', 'P!nk', 'spotify:track:0JiY190vktuhSGN6aqJdrt')],\n",
       " [('Forever', 'Chris Brown', 'spotify:track:3NZJlJemX3mzjf56MqC5ML')],\n",
       " [('All The Things She Said',\n",
       "   't.A.T.u.',\n",
       "   'spotify:track:4bJygwUKrRgq1stlNXcgMg')],\n",
       " [('Unwritten',\n",
       "   'Natasha Bedingfield',\n",
       "   'spotify:track:3U5JVgI2x4rDyHGObzJfNf')],\n",
       " [('Dance, Dance', 'Fall Out Boy', 'spotify:track:0a7BloCiNzLDD9qSQHh5m7')],\n",
       " [('Grenade', 'Bruno Mars', 'spotify:track:2tJulUYLDKOg9XrtVkMgcJ')],\n",
       " [('Use Somebody', 'Kings of Leon', 'spotify:track:5VGlqQANWDKJFl0MBG3sg2')],\n",
       " [('Boulevard of Broken Dreams',\n",
       "   'Green Day',\n",
       "   'spotify:track:5GorCbAP4aL0EJ16frG2hd')],\n",
       " [('Poker Face', 'Lady Gaga', 'spotify:track:5R8dQOPq8haW94K7mgERlO')],\n",
       " [(\"Can't Get You out of My Head\",\n",
       "   'Kylie Minogue',\n",
       "   'spotify:track:3E7ZwUMJFqpsDOJzEkBrQ7')],\n",
       " [('Savior', 'Rise Against', 'spotify:track:1vcxF91pWs9uNwDROuiCPB')],\n",
       " [('Womanizer', 'Britney Spears', 'spotify:track:4fixebDZAVToLbUCuEloa2')],\n",
       " [(\"Drop It Like It's Hot\",\n",
       "   'Snoop Dogg',\n",
       "   'spotify:track:2NBQmPrOEEjA8VbeWOQGxO'),\n",
       "  (\"Drop It Like It's Hot\",\n",
       "   'Pharrell Williams',\n",
       "   'spotify:track:2NBQmPrOEEjA8VbeWOQGxO')],\n",
       " [('Right Round', 'Flo Rida', 'spotify:track:3GpbwCm3YxiWDvy29Uo3vP')],\n",
       " [('La Tortura (feat. Alejandro Sanz)',\n",
       "   'Shakira',\n",
       "   'spotify:track:5BSclXJTa9B0iURhUjZo50'),\n",
       "  ('La Tortura (feat. Alejandro Sanz)',\n",
       "   'Alejandro Sanz',\n",
       "   'spotify:track:5BSclXJTa9B0iURhUjZo50')],\n",
       " [('Family Affair', 'Mary J. Blige', 'spotify:track:3aw9iWUQ3VrPQltgwvN9Xu')],\n",
       " [('Wake Me up When September Ends',\n",
       "   'Green Day',\n",
       "   'spotify:track:3ZffCQKLFLUvYM59XKLbVm')],\n",
       " [('Angel', 'Shaggy', 'spotify:track:7FDV5ELOJHCGLe52AnttEd'),\n",
       "  ('Angel', 'Rayvon', 'spotify:track:7FDV5ELOJHCGLe52AnttEd')],\n",
       " [('Sk8er Boi', 'Avril Lavigne', 'spotify:track:00Mb3DuaIH1kjrwOku9CGU')],\n",
       " [('Get Busy', 'Sean Paul', 'spotify:track:6bK9BH9Ts8Gj5JFvnQkzak')],\n",
       " [('Miss Independent', 'Ne-Yo', 'spotify:track:34ceTg8ChN5HjrqiIYCn9Q')],\n",
       " [('Ride Wit Me', 'Nelly', 'spotify:track:3Gf5nttwcX9aaSQXRWidEZ'),\n",
       "  ('Ride Wit Me', 'City Spud', 'spotify:track:3Gf5nttwcX9aaSQXRWidEZ')],\n",
       " [('Here Without You',\n",
       "   '3 Doors Down',\n",
       "   'spotify:track:3NLrRZoMF0Lx6zTlYqeIo4')],\n",
       " [('Somewhere Only We Know', 'Keane', 'spotify:track:0ll8uFnc0nANY35E0Lfxvg')],\n",
       " [('Best of You', 'Foo Fighters', 'spotify:track:5FZxsHWIvUsmSK1IAvm2pp')],\n",
       " [('I Miss You', 'blink-182', 'spotify:track:1AdYZ6X00nXmO613Y7GJOl')],\n",
       " [(\"You're Beautiful\", 'James Blunt', 'spotify:track:0vg4WnUWvze6pBOJDTq99k')],\n",
       " [('We Are Never Ever Getting Back Together',\n",
       "   'Taylor Swift',\n",
       "   'spotify:track:0VwNdo84DaVYLIkbVO86ND')],\n",
       " [('Live Your Life', 'T.I.', 'spotify:track:3jlbL2OTD5YmIunYzgQTAN'),\n",
       "  ('Live Your Life', 'Rihanna', 'spotify:track:3jlbL2OTD5YmIunYzgQTAN')],\n",
       " [('Uprising', 'Muse', 'spotify:track:4VqPOruhp5EdPBeR92t6lQ')],\n",
       " [('Hot In Herre', 'Nelly', 'spotify:track:04KTF78FFg8sOHC1BADqbY')],\n",
       " [('Hung Up', 'Madonna', 'spotify:track:3850dYVgOFIXJh5U4BFEWH')],\n",
       " [('In Da Club', '50 Cent', 'spotify:track:4RY96Asd9IefaL3X4LOLZ8')],\n",
       " [('Young Folks',\n",
       "   'Peter Bjorn and John',\n",
       "   'spotify:track:4dyx5SzxPPaD8xQIid5Wjj')],\n",
       " [(\"Don't Know Why\", 'Norah Jones', 'spotify:track:1zNXF2svmdlNxfS5XeNUgr')],\n",
       " [('I Gotta Feeling',\n",
       "   'Black Eyed Peas',\n",
       "   'spotify:track:2H1047e0oMSj10dgp7p2VG')],\n",
       " [('Halo', 'Beyoncé', 'spotify:track:4JehYebiI9JE8sR8MisGVb')],\n",
       " [('Cooler Than Me - Single Mix',\n",
       "   'Mike Posner',\n",
       "   'spotify:track:2V4bv1fNWfTcyRJKmej6Sj'),\n",
       "  ('Cooler Than Me - Single Mix',\n",
       "   'Gigamesh',\n",
       "   'spotify:track:2V4bv1fNWfTcyRJKmej6Sj')],\n",
       " [('Call on Me - Radio Mix',\n",
       "   'Eric Prydz',\n",
       "   'spotify:track:1xNcBAoUw8Hz6LqK2jt4Ff')],\n",
       " [('Just Dance', 'Lady Gaga', 'spotify:track:2x7MyWybabEz6Y6wvHuwGE'),\n",
       "  ('Just Dance', \"Colby O'Donis\", 'spotify:track:2x7MyWybabEz6Y6wvHuwGE')],\n",
       " [('By the Way',\n",
       "   'Red Hot Chili Peppers',\n",
       "   'spotify:track:1f2V8U1BiWaC9aJWmpOARe')],\n",
       " [('Bleeding Love', 'Leona Lewis', 'spotify:track:7wZUrN8oemZfsEd1CGkbXE')],\n",
       " [('Let Me Blow Ya Mind', 'Eve', 'spotify:track:3RmKpob8xzv1pzHEQrMJah'),\n",
       "  ('Let Me Blow Ya Mind',\n",
       "   'Gwen Stefani',\n",
       "   'spotify:track:3RmKpob8xzv1pzHEQrMJah')],\n",
       " [('Human', 'The Killers', 'spotify:track:1sTsuZTdANkiFd7T34H3nb')],\n",
       " [('Bad Day', 'Daniel Powter', 'spotify:track:0mUyMawtxj1CJ76kn9gIZK')],\n",
       " [('You Belong With Me',\n",
       "   'Taylor Swift',\n",
       "   'spotify:track:1GEBsLDvJGw7kviySRI6GX')],\n",
       " [('Beautiful Liar', 'Beyoncé', 'spotify:track:2HWWNoWEEEECwZhAiLg7ib'),\n",
       "  ('Beautiful Liar', 'Shakira', 'spotify:track:2HWWNoWEEEECwZhAiLg7ib')],\n",
       " [('Valerie - Live At BBC Radio 1 Live Lounge, London / 2007',\n",
       "   'Amy Winehouse',\n",
       "   'spotify:track:6nLvaCZFR1wEzW3sIKpsnr')],\n",
       " [(\"L'Amour Toujours\",\n",
       "   \"Gigi D'Agostino\",\n",
       "   'spotify:track:52LJ3hyknOijCrE5gCD0rE')]]"
      ]
     },
     "execution_count": 24,
     "metadata": {},
     "output_type": "execute_result"
    }
   ],
   "source": [
    "get_name_artist_from_playlist(all_tracks_2000)"
   ]
  },
  {
   "cell_type": "code",
   "execution_count": 25,
   "id": "91f62211",
   "metadata": {},
   "outputs": [],
   "source": [
    "def get_name_artist_from_playlist(input_playlist):\n",
    "    return flatten(list(map(get_name_artist_from_playlist_item,input_playlist)))"
   ]
  },
  {
   "cell_type": "code",
   "execution_count": 26,
   "id": "26b252b0",
   "metadata": {},
   "outputs": [],
   "source": [
    "thousands = get_name_artist_from_playlist(all_tracks_2000)"
   ]
  },
  {
   "cell_type": "code",
   "execution_count": 27,
   "id": "7a2e94af",
   "metadata": {},
   "outputs": [],
   "source": [
    "thousands = pd.DataFrame(thousands)"
   ]
  },
  {
   "cell_type": "markdown",
   "id": "eada533d",
   "metadata": {},
   "source": [
    "# Playlist2 (Big)"
   ]
  },
  {
   "cell_type": "code",
   "execution_count": 28,
   "id": "e8901ca2",
   "metadata": {},
   "outputs": [],
   "source": [
    "playlist2 = sp.user_playlist_tracks(\"spotify\", \"4rnleEAOdmFAbRcNCgZMpY\")"
   ]
  },
  {
   "cell_type": "code",
   "execution_count": 29,
   "id": "cbb1f9ca",
   "metadata": {},
   "outputs": [
    {
     "data": {
      "text/plain": [
       "'Take Me To Church'"
      ]
     },
     "execution_count": 29,
     "metadata": {},
     "output_type": "execute_result"
    }
   ],
   "source": [
    "playlist2[\"items\"][0][\"track\"][\"name\"]"
   ]
  },
  {
   "cell_type": "code",
   "execution_count": 30,
   "id": "efc336eb",
   "metadata": {},
   "outputs": [
    {
     "data": {
      "text/plain": [
       "5295"
      ]
     },
     "execution_count": 30,
     "metadata": {},
     "output_type": "execute_result"
    }
   ],
   "source": [
    "playlist2[\"total\"] "
   ]
  },
  {
   "cell_type": "code",
   "execution_count": 31,
   "id": "57898ca4",
   "metadata": {},
   "outputs": [
    {
     "data": {
      "text/plain": [
       "100"
      ]
     },
     "execution_count": 31,
     "metadata": {},
     "output_type": "execute_result"
    }
   ],
   "source": [
    "len(playlist2[\"items\"])"
   ]
  },
  {
   "cell_type": "code",
   "execution_count": 32,
   "id": "538d96c6",
   "metadata": {},
   "outputs": [
    {
     "data": {
      "text/plain": [
       "5295"
      ]
     },
     "execution_count": 32,
     "metadata": {},
     "output_type": "execute_result"
    }
   ],
   "source": [
    "all_tracks_big = get_playlist_tracks(\"4rnleEAOdmFAbRcNCgZMpY\")\n",
    "len(all_tracks_big)"
   ]
  },
  {
   "cell_type": "code",
   "execution_count": 33,
   "id": "42118f58",
   "metadata": {},
   "outputs": [
    {
     "data": {
      "text/plain": [
       "[('Pompeii', 'Bastille', 'spotify:track:3gbBpTdY8lnQwqxNCcf795')]"
      ]
     },
     "execution_count": 33,
     "metadata": {},
     "output_type": "execute_result"
    }
   ],
   "source": [
    "get_name_artist_from_track(all_tracks_big[3]['track'])"
   ]
  },
  {
   "cell_type": "code",
   "execution_count": 34,
   "id": "cac31197",
   "metadata": {},
   "outputs": [
    {
     "data": {
      "text/plain": [
       "[('Pompeii', 'Bastille', 'spotify:track:3gbBpTdY8lnQwqxNCcf795')]"
      ]
     },
     "execution_count": 34,
     "metadata": {},
     "output_type": "execute_result"
    }
   ],
   "source": [
    "get_name_artist_from_playlist_item(all_tracks_big[3])"
   ]
  },
  {
   "cell_type": "code",
   "execution_count": 35,
   "id": "2bad3b40",
   "metadata": {},
   "outputs": [],
   "source": [
    "big = get_name_artist_from_playlist(all_tracks_big)"
   ]
  },
  {
   "cell_type": "code",
   "execution_count": 36,
   "id": "da5f1a2e",
   "metadata": {},
   "outputs": [],
   "source": [
    "big = pd.DataFrame(big)"
   ]
  },
  {
   "cell_type": "markdown",
   "id": "e81c7d78",
   "metadata": {},
   "source": [
    "# Playlist 3 (EMO)"
   ]
  },
  {
   "cell_type": "code",
   "execution_count": 37,
   "id": "50a5d6ee",
   "metadata": {},
   "outputs": [],
   "source": [
    "playlist3 = sp.user_playlist_tracks(\"spotify\", \"37i9dQZF1DX9wa6XirBPv8\")"
   ]
  },
  {
   "cell_type": "code",
   "execution_count": 38,
   "id": "d983f365",
   "metadata": {},
   "outputs": [
    {
     "data": {
      "text/plain": [
       "75"
      ]
     },
     "execution_count": 38,
     "metadata": {},
     "output_type": "execute_result"
    }
   ],
   "source": [
    "playlist3[\"total\"]"
   ]
  },
  {
   "cell_type": "code",
   "execution_count": 39,
   "id": "6b49a744",
   "metadata": {},
   "outputs": [
    {
     "data": {
      "text/plain": [
       "75"
      ]
     },
     "execution_count": 39,
     "metadata": {},
     "output_type": "execute_result"
    }
   ],
   "source": [
    "all_tracks_emo = get_playlist_tracks(\"37i9dQZF1DX9wa6XirBPv8\")\n",
    "len(all_tracks_emo)"
   ]
  },
  {
   "cell_type": "code",
   "execution_count": 40,
   "id": "84d009ea",
   "metadata": {},
   "outputs": [],
   "source": [
    "emo = get_name_artist_from_playlist(all_tracks_emo)"
   ]
  },
  {
   "cell_type": "code",
   "execution_count": 41,
   "id": "4883508e",
   "metadata": {},
   "outputs": [],
   "source": [
    "emo = pd.DataFrame(emo)"
   ]
  },
  {
   "cell_type": "markdown",
   "id": "a1536cdc",
   "metadata": {},
   "source": [
    "# Playlist 4 (Most Played All-Time)"
   ]
  },
  {
   "cell_type": "code",
   "execution_count": 42,
   "id": "4276e198",
   "metadata": {},
   "outputs": [],
   "source": [
    "playlist4 = sp.user_playlist_tracks(\"spotify\", \"2YRe7HRKNRvXdJBp9nXFza\")"
   ]
  },
  {
   "cell_type": "code",
   "execution_count": 43,
   "id": "0302c0bd",
   "metadata": {},
   "outputs": [
    {
     "data": {
      "text/plain": [
       "715"
      ]
     },
     "execution_count": 43,
     "metadata": {},
     "output_type": "execute_result"
    }
   ],
   "source": [
    "playlist4[\"total\"]"
   ]
  },
  {
   "cell_type": "code",
   "execution_count": 44,
   "id": "3aa024cf",
   "metadata": {},
   "outputs": [
    {
     "data": {
      "text/plain": [
       "715"
      ]
     },
     "execution_count": 44,
     "metadata": {},
     "output_type": "execute_result"
    }
   ],
   "source": [
    "all_tracks_MPAT = get_playlist_tracks(\"2YRe7HRKNRvXdJBp9nXFza\")\n",
    "len(all_tracks_MPAT)"
   ]
  },
  {
   "cell_type": "code",
   "execution_count": 45,
   "id": "21b981a4",
   "metadata": {},
   "outputs": [],
   "source": [
    "MPAT = get_name_artist_from_playlist(all_tracks_MPAT)"
   ]
  },
  {
   "cell_type": "code",
   "execution_count": 46,
   "id": "f2a0953b",
   "metadata": {},
   "outputs": [],
   "source": [
    "MPAT = pd.DataFrame(MPAT)"
   ]
  },
  {
   "cell_type": "markdown",
   "id": "fa4c21f0",
   "metadata": {},
   "source": [
    "# Playlist 5 (Rock Classics)"
   ]
  },
  {
   "cell_type": "code",
   "execution_count": 47,
   "id": "a4824aa9",
   "metadata": {},
   "outputs": [],
   "source": [
    "playlist5 = sp.user_playlist_tracks(\"spotify\",\"37i9dQZF1DWXRqgorJj26U\")"
   ]
  },
  {
   "cell_type": "code",
   "execution_count": 48,
   "id": "ae44465a",
   "metadata": {},
   "outputs": [
    {
     "data": {
      "text/plain": [
       "200"
      ]
     },
     "execution_count": 48,
     "metadata": {},
     "output_type": "execute_result"
    }
   ],
   "source": [
    "playlist5[\"total\"]"
   ]
  },
  {
   "cell_type": "code",
   "execution_count": 49,
   "id": "e7715b00",
   "metadata": {},
   "outputs": [
    {
     "data": {
      "text/plain": [
       "200"
      ]
     },
     "execution_count": 49,
     "metadata": {},
     "output_type": "execute_result"
    }
   ],
   "source": [
    "all_tracks_rock = get_playlist_tracks(\"37i9dQZF1DWXRqgorJj26U\")\n",
    "len(all_tracks_rock)"
   ]
  },
  {
   "cell_type": "code",
   "execution_count": 50,
   "id": "ea8ad265",
   "metadata": {},
   "outputs": [],
   "source": [
    "rock = get_name_artist_from_playlist(all_tracks_rock)"
   ]
  },
  {
   "cell_type": "code",
   "execution_count": 51,
   "id": "c5cc3117",
   "metadata": {},
   "outputs": [],
   "source": [
    "rock = pd.DataFrame(rock)"
   ]
  },
  {
   "cell_type": "markdown",
   "id": "f9cf62d3",
   "metadata": {},
   "source": [
    "# Playlist 6 (National Anthems)"
   ]
  },
  {
   "cell_type": "code",
   "execution_count": 52,
   "id": "31fa658f",
   "metadata": {},
   "outputs": [],
   "source": [
    "#4lhWxULgawAPOEgAkClW0b"
   ]
  },
  {
   "cell_type": "code",
   "execution_count": 53,
   "id": "fdb0fea3",
   "metadata": {},
   "outputs": [],
   "source": [
    "playlist6 = sp.user_playlist_tracks(\"spotify\",\"4lhWxULgawAPOEgAkClW0b\")"
   ]
  },
  {
   "cell_type": "code",
   "execution_count": 54,
   "id": "4380ecff",
   "metadata": {},
   "outputs": [
    {
     "data": {
      "text/plain": [
       "215"
      ]
     },
     "execution_count": 54,
     "metadata": {},
     "output_type": "execute_result"
    }
   ],
   "source": [
    "all_tracks_NA = get_playlist_tracks(\"4lhWxULgawAPOEgAkClW0b\")\n",
    "len(all_tracks_NA)"
   ]
  },
  {
   "cell_type": "code",
   "execution_count": 55,
   "id": "52ab69b6",
   "metadata": {},
   "outputs": [],
   "source": [
    "NA = get_name_artist_from_playlist(all_tracks_NA)"
   ]
  },
  {
   "cell_type": "code",
   "execution_count": 56,
   "id": "1883855c",
   "metadata": {},
   "outputs": [],
   "source": [
    "NA = pd.DataFrame(NA)"
   ]
  },
  {
   "cell_type": "code",
   "execution_count": 57,
   "id": "aa8b661c",
   "metadata": {},
   "outputs": [
    {
     "data": {
      "text/html": [
       "<div>\n",
       "<style scoped>\n",
       "    .dataframe tbody tr th:only-of-type {\n",
       "        vertical-align: middle;\n",
       "    }\n",
       "\n",
       "    .dataframe tbody tr th {\n",
       "        vertical-align: top;\n",
       "    }\n",
       "\n",
       "    .dataframe thead th {\n",
       "        text-align: right;\n",
       "    }\n",
       "</style>\n",
       "<table border=\"1\" class=\"dataframe\">\n",
       "  <thead>\n",
       "    <tr style=\"text-align: right;\">\n",
       "      <th></th>\n",
       "      <th>0</th>\n",
       "      <th>1</th>\n",
       "      <th>2</th>\n",
       "    </tr>\n",
       "  </thead>\n",
       "  <tbody>\n",
       "    <tr>\n",
       "      <th>0</th>\n",
       "      <td>Afghanistan [Milli Surood (National Anthem), \"...</td>\n",
       "      <td>Peter Breiner</td>\n",
       "      <td>spotify:track:4FfTEj2bSFa2ptNoxbkOnP</td>\n",
       "    </tr>\n",
       "    <tr>\n",
       "      <th>1</th>\n",
       "      <td>Afghanistan [Milli Surood (National Anthem), \"...</td>\n",
       "      <td>Babrak Wasa</td>\n",
       "      <td>spotify:track:4FfTEj2bSFa2ptNoxbkOnP</td>\n",
       "    </tr>\n",
       "    <tr>\n",
       "      <th>2</th>\n",
       "      <td>Afghanistan [Milli Surood (National Anthem), \"...</td>\n",
       "      <td>Slovak State Philharmonic Orchestra, Kosice</td>\n",
       "      <td>spotify:track:4FfTEj2bSFa2ptNoxbkOnP</td>\n",
       "    </tr>\n",
       "    <tr>\n",
       "      <th>3</th>\n",
       "      <td>Albania [Hymni i Flamurit (Hymn To The Flag), ...</td>\n",
       "      <td>Ciprian Porumbescu</td>\n",
       "      <td>spotify:track:0J7T6WhEvtTTqvx4RRjpbq</td>\n",
       "    </tr>\n",
       "    <tr>\n",
       "      <th>4</th>\n",
       "      <td>Albania [Hymni i Flamurit (Hymn To The Flag), ...</td>\n",
       "      <td>Peter Breiner</td>\n",
       "      <td>spotify:track:0J7T6WhEvtTTqvx4RRjpbq</td>\n",
       "    </tr>\n",
       "    <tr>\n",
       "      <th>...</th>\n",
       "      <td>...</td>\n",
       "      <td>...</td>\n",
       "      <td>...</td>\n",
       "    </tr>\n",
       "    <tr>\n",
       "      <th>659</th>\n",
       "      <td>Olympic Movement: Olympiakós Ýmnos (Olympic Hy...</td>\n",
       "      <td>Slovak Radio Symphony Orchestra</td>\n",
       "      <td>spotify:track:4ylVg9Pxvf2FXyo5uqhZj0</td>\n",
       "    </tr>\n",
       "    <tr>\n",
       "      <th>660</th>\n",
       "      <td>Olympic Movement: Olympiakós Ýmnos (Olympic Hy...</td>\n",
       "      <td>Peter Breiner</td>\n",
       "      <td>spotify:track:4ylVg9Pxvf2FXyo5uqhZj0</td>\n",
       "    </tr>\n",
       "    <tr>\n",
       "      <th>661</th>\n",
       "      <td>Paralympic Movement: Hymn de l'Avenir (Anthem ...</td>\n",
       "      <td>Thierry Darnis</td>\n",
       "      <td>spotify:track:2Lu1pe517AK6ByJgp3b8QW</td>\n",
       "    </tr>\n",
       "    <tr>\n",
       "      <th>662</th>\n",
       "      <td>Paralympic Movement: Hymn de l'Avenir (Anthem ...</td>\n",
       "      <td>Slovak State Philharmonic Orchestra</td>\n",
       "      <td>spotify:track:2Lu1pe517AK6ByJgp3b8QW</td>\n",
       "    </tr>\n",
       "    <tr>\n",
       "      <th>663</th>\n",
       "      <td>Paralympic Movement: Hymn de l'Avenir (Anthem ...</td>\n",
       "      <td>Peter Breiner</td>\n",
       "      <td>spotify:track:2Lu1pe517AK6ByJgp3b8QW</td>\n",
       "    </tr>\n",
       "  </tbody>\n",
       "</table>\n",
       "<p>664 rows × 3 columns</p>\n",
       "</div>"
      ],
      "text/plain": [
       "                                                     0  \\\n",
       "0    Afghanistan [Milli Surood (National Anthem), \"...   \n",
       "1    Afghanistan [Milli Surood (National Anthem), \"...   \n",
       "2    Afghanistan [Milli Surood (National Anthem), \"...   \n",
       "3    Albania [Hymni i Flamurit (Hymn To The Flag), ...   \n",
       "4    Albania [Hymni i Flamurit (Hymn To The Flag), ...   \n",
       "..                                                 ...   \n",
       "659  Olympic Movement: Olympiakós Ýmnos (Olympic Hy...   \n",
       "660  Olympic Movement: Olympiakós Ýmnos (Olympic Hy...   \n",
       "661  Paralympic Movement: Hymn de l'Avenir (Anthem ...   \n",
       "662  Paralympic Movement: Hymn de l'Avenir (Anthem ...   \n",
       "663  Paralympic Movement: Hymn de l'Avenir (Anthem ...   \n",
       "\n",
       "                                               1  \\\n",
       "0                                  Peter Breiner   \n",
       "1                                    Babrak Wasa   \n",
       "2    Slovak State Philharmonic Orchestra, Kosice   \n",
       "3                             Ciprian Porumbescu   \n",
       "4                                  Peter Breiner   \n",
       "..                                           ...   \n",
       "659              Slovak Radio Symphony Orchestra   \n",
       "660                                Peter Breiner   \n",
       "661                               Thierry Darnis   \n",
       "662          Slovak State Philharmonic Orchestra   \n",
       "663                                Peter Breiner   \n",
       "\n",
       "                                        2  \n",
       "0    spotify:track:4FfTEj2bSFa2ptNoxbkOnP  \n",
       "1    spotify:track:4FfTEj2bSFa2ptNoxbkOnP  \n",
       "2    spotify:track:4FfTEj2bSFa2ptNoxbkOnP  \n",
       "3    spotify:track:0J7T6WhEvtTTqvx4RRjpbq  \n",
       "4    spotify:track:0J7T6WhEvtTTqvx4RRjpbq  \n",
       "..                                    ...  \n",
       "659  spotify:track:4ylVg9Pxvf2FXyo5uqhZj0  \n",
       "660  spotify:track:4ylVg9Pxvf2FXyo5uqhZj0  \n",
       "661  spotify:track:2Lu1pe517AK6ByJgp3b8QW  \n",
       "662  spotify:track:2Lu1pe517AK6ByJgp3b8QW  \n",
       "663  spotify:track:2Lu1pe517AK6ByJgp3b8QW  \n",
       "\n",
       "[664 rows x 3 columns]"
      ]
     },
     "execution_count": 57,
     "metadata": {},
     "output_type": "execute_result"
    }
   ],
   "source": [
    "NA"
   ]
  },
  {
   "cell_type": "markdown",
   "id": "9e319613",
   "metadata": {},
   "source": [
    "# Playlist 7 : Rap "
   ]
  },
  {
   "cell_type": "code",
   "execution_count": 58,
   "id": "e8802b35",
   "metadata": {},
   "outputs": [],
   "source": [
    "#4riovLwMCrY3q0Cd4e0Sqp"
   ]
  },
  {
   "cell_type": "code",
   "execution_count": 59,
   "id": "a706592f",
   "metadata": {},
   "outputs": [],
   "source": [
    "playlist7 = sp.user_playlist_tracks(\"spotify\",\"4riovLwMCrY3q0Cd4e0Sqp\")"
   ]
  },
  {
   "cell_type": "code",
   "execution_count": 60,
   "id": "f71e3fc2",
   "metadata": {},
   "outputs": [
    {
     "data": {
      "text/plain": [
       "289"
      ]
     },
     "execution_count": 60,
     "metadata": {},
     "output_type": "execute_result"
    }
   ],
   "source": [
    "all_tracks_rap = get_playlist_tracks(\"4riovLwMCrY3q0Cd4e0Sqp\")\n",
    "len(all_tracks_rap)"
   ]
  },
  {
   "cell_type": "code",
   "execution_count": 61,
   "id": "4de1fc5e",
   "metadata": {},
   "outputs": [],
   "source": [
    "rap = get_name_artist_from_playlist(all_tracks_rap)"
   ]
  },
  {
   "cell_type": "code",
   "execution_count": 62,
   "id": "9234db51",
   "metadata": {},
   "outputs": [],
   "source": [
    "rap = pd.DataFrame(rap)"
   ]
  },
  {
   "cell_type": "code",
   "execution_count": 63,
   "id": "83e0110d",
   "metadata": {},
   "outputs": [
    {
     "data": {
      "text/html": [
       "<div>\n",
       "<style scoped>\n",
       "    .dataframe tbody tr th:only-of-type {\n",
       "        vertical-align: middle;\n",
       "    }\n",
       "\n",
       "    .dataframe tbody tr th {\n",
       "        vertical-align: top;\n",
       "    }\n",
       "\n",
       "    .dataframe thead th {\n",
       "        text-align: right;\n",
       "    }\n",
       "</style>\n",
       "<table border=\"1\" class=\"dataframe\">\n",
       "  <thead>\n",
       "    <tr style=\"text-align: right;\">\n",
       "      <th></th>\n",
       "      <th>0</th>\n",
       "      <th>1</th>\n",
       "      <th>2</th>\n",
       "    </tr>\n",
       "  </thead>\n",
       "  <tbody>\n",
       "    <tr>\n",
       "      <th>0</th>\n",
       "      <td>Love Sosa</td>\n",
       "      <td>Chief Keef</td>\n",
       "      <td>spotify:track:01Lr5YepbgjXAWR9iOEyH1</td>\n",
       "    </tr>\n",
       "    <tr>\n",
       "      <th>1</th>\n",
       "      <td>goosebumps</td>\n",
       "      <td>Travis Scott</td>\n",
       "      <td>spotify:track:6gBFPUFcJLzWGx4lenP6h2</td>\n",
       "    </tr>\n",
       "    <tr>\n",
       "      <th>2</th>\n",
       "      <td>Ni**as In Paris</td>\n",
       "      <td>JAY-Z</td>\n",
       "      <td>spotify:track:4Li2WHPkuyCdtmokzW2007</td>\n",
       "    </tr>\n",
       "    <tr>\n",
       "      <th>3</th>\n",
       "      <td>Ni**as In Paris</td>\n",
       "      <td>Kanye West</td>\n",
       "      <td>spotify:track:4Li2WHPkuyCdtmokzW2007</td>\n",
       "    </tr>\n",
       "    <tr>\n",
       "      <th>4</th>\n",
       "      <td>XO Tour Llif3</td>\n",
       "      <td>Lil Uzi Vert</td>\n",
       "      <td>spotify:track:7GX5flRQZVHRAGd6B4TmDO</td>\n",
       "    </tr>\n",
       "    <tr>\n",
       "      <th>...</th>\n",
       "      <td>...</td>\n",
       "      <td>...</td>\n",
       "      <td>...</td>\n",
       "    </tr>\n",
       "    <tr>\n",
       "      <th>466</th>\n",
       "      <td>Lalala</td>\n",
       "      <td>Y2K</td>\n",
       "      <td>spotify:track:51Fjme0JiitpyXKuyQiCDo</td>\n",
       "    </tr>\n",
       "    <tr>\n",
       "      <th>467</th>\n",
       "      <td>Lalala</td>\n",
       "      <td>bbno$</td>\n",
       "      <td>spotify:track:51Fjme0JiitpyXKuyQiCDo</td>\n",
       "    </tr>\n",
       "    <tr>\n",
       "      <th>468</th>\n",
       "      <td>Hot (Remix) [feat. Gunna and Travis Scott]</td>\n",
       "      <td>Young Thug</td>\n",
       "      <td>spotify:track:4ea9w8c4ROqiZpJVhfBA3m</td>\n",
       "    </tr>\n",
       "    <tr>\n",
       "      <th>469</th>\n",
       "      <td>Hot (Remix) [feat. Gunna and Travis Scott]</td>\n",
       "      <td>Travis Scott</td>\n",
       "      <td>spotify:track:4ea9w8c4ROqiZpJVhfBA3m</td>\n",
       "    </tr>\n",
       "    <tr>\n",
       "      <th>470</th>\n",
       "      <td>Hot (Remix) [feat. Gunna and Travis Scott]</td>\n",
       "      <td>Gunna</td>\n",
       "      <td>spotify:track:4ea9w8c4ROqiZpJVhfBA3m</td>\n",
       "    </tr>\n",
       "  </tbody>\n",
       "</table>\n",
       "<p>471 rows × 3 columns</p>\n",
       "</div>"
      ],
      "text/plain": [
       "                                              0             1  \\\n",
       "0                                     Love Sosa    Chief Keef   \n",
       "1                                    goosebumps  Travis Scott   \n",
       "2                               Ni**as In Paris         JAY-Z   \n",
       "3                               Ni**as In Paris    Kanye West   \n",
       "4                                 XO Tour Llif3  Lil Uzi Vert   \n",
       "..                                          ...           ...   \n",
       "466                                      Lalala           Y2K   \n",
       "467                                      Lalala         bbno$   \n",
       "468  Hot (Remix) [feat. Gunna and Travis Scott]    Young Thug   \n",
       "469  Hot (Remix) [feat. Gunna and Travis Scott]  Travis Scott   \n",
       "470  Hot (Remix) [feat. Gunna and Travis Scott]         Gunna   \n",
       "\n",
       "                                        2  \n",
       "0    spotify:track:01Lr5YepbgjXAWR9iOEyH1  \n",
       "1    spotify:track:6gBFPUFcJLzWGx4lenP6h2  \n",
       "2    spotify:track:4Li2WHPkuyCdtmokzW2007  \n",
       "3    spotify:track:4Li2WHPkuyCdtmokzW2007  \n",
       "4    spotify:track:7GX5flRQZVHRAGd6B4TmDO  \n",
       "..                                    ...  \n",
       "466  spotify:track:51Fjme0JiitpyXKuyQiCDo  \n",
       "467  spotify:track:51Fjme0JiitpyXKuyQiCDo  \n",
       "468  spotify:track:4ea9w8c4ROqiZpJVhfBA3m  \n",
       "469  spotify:track:4ea9w8c4ROqiZpJVhfBA3m  \n",
       "470  spotify:track:4ea9w8c4ROqiZpJVhfBA3m  \n",
       "\n",
       "[471 rows x 3 columns]"
      ]
     },
     "execution_count": 63,
     "metadata": {},
     "output_type": "execute_result"
    }
   ],
   "source": [
    "rap"
   ]
  },
  {
   "cell_type": "markdown",
   "id": "db2959f9",
   "metadata": {},
   "source": [
    "# Playlist ALL"
   ]
  },
  {
   "cell_type": "code",
   "execution_count": 64,
   "id": "556c2277",
   "metadata": {},
   "outputs": [],
   "source": [
    "tracks = pd.concat([thousands, big, emo, NA, MPAT, rap, rock])"
   ]
  },
  {
   "cell_type": "code",
   "execution_count": 65,
   "id": "e4aba44e",
   "metadata": {},
   "outputs": [
    {
     "data": {
      "text/html": [
       "<div>\n",
       "<style scoped>\n",
       "    .dataframe tbody tr th:only-of-type {\n",
       "        vertical-align: middle;\n",
       "    }\n",
       "\n",
       "    .dataframe tbody tr th {\n",
       "        vertical-align: top;\n",
       "    }\n",
       "\n",
       "    .dataframe thead th {\n",
       "        text-align: right;\n",
       "    }\n",
       "</style>\n",
       "<table border=\"1\" class=\"dataframe\">\n",
       "  <thead>\n",
       "    <tr style=\"text-align: right;\">\n",
       "      <th></th>\n",
       "      <th>0</th>\n",
       "      <th>1</th>\n",
       "      <th>2</th>\n",
       "    </tr>\n",
       "  </thead>\n",
       "  <tbody>\n",
       "    <tr>\n",
       "      <th>0</th>\n",
       "      <td>Yellow</td>\n",
       "      <td>Coldplay</td>\n",
       "      <td>spotify:track:3AJwUDP919kvQ9QcozQPxg</td>\n",
       "    </tr>\n",
       "    <tr>\n",
       "      <th>1</th>\n",
       "      <td>Without Me</td>\n",
       "      <td>Eminem</td>\n",
       "      <td>spotify:track:7lQ8MOhq6IN2w8EYcFNSUk</td>\n",
       "    </tr>\n",
       "    <tr>\n",
       "      <th>2</th>\n",
       "      <td>In the End</td>\n",
       "      <td>Linkin Park</td>\n",
       "      <td>spotify:track:60a0Rd6pjrkxjPbaKzXjfq</td>\n",
       "    </tr>\n",
       "    <tr>\n",
       "      <th>3</th>\n",
       "      <td>Hips Don't Lie (feat. Wyclef Jean)</td>\n",
       "      <td>Shakira</td>\n",
       "      <td>spotify:track:3ZFTkvIE7kyPt6Nu3PEa7V</td>\n",
       "    </tr>\n",
       "    <tr>\n",
       "      <th>4</th>\n",
       "      <td>Hips Don't Lie (feat. Wyclef Jean)</td>\n",
       "      <td>Wyclef Jean</td>\n",
       "      <td>spotify:track:3ZFTkvIE7kyPt6Nu3PEa7V</td>\n",
       "    </tr>\n",
       "    <tr>\n",
       "      <th>...</th>\n",
       "      <td>...</td>\n",
       "      <td>...</td>\n",
       "      <td>...</td>\n",
       "    </tr>\n",
       "    <tr>\n",
       "      <th>197</th>\n",
       "      <td>I Wanna Rock</td>\n",
       "      <td>Twisted Sister</td>\n",
       "      <td>spotify:track:70Z9t1qhytWtG4cCmmi7mU</td>\n",
       "    </tr>\n",
       "    <tr>\n",
       "      <th>198</th>\n",
       "      <td>All Along the Watchtower</td>\n",
       "      <td>Jimi Hendrix</td>\n",
       "      <td>spotify:track:2aoo2jlRnM3A0NyLQqMN2f</td>\n",
       "    </tr>\n",
       "    <tr>\n",
       "      <th>199</th>\n",
       "      <td>We Got The Beat - 2011 Remaster</td>\n",
       "      <td>The Go-Go's</td>\n",
       "      <td>spotify:track:5o37x6LpNSec4jSfPIChsQ</td>\n",
       "    </tr>\n",
       "    <tr>\n",
       "      <th>200</th>\n",
       "      <td>Tumbling Dice</td>\n",
       "      <td>The Rolling Stones</td>\n",
       "      <td>spotify:track:4hq0S6wznq7SHDyMOFXL9i</td>\n",
       "    </tr>\n",
       "    <tr>\n",
       "      <th>201</th>\n",
       "      <td>Everywhere - 2017 Remaster</td>\n",
       "      <td>Fleetwood Mac</td>\n",
       "      <td>spotify:track:254bXAqt3zP6P50BdQvEsq</td>\n",
       "    </tr>\n",
       "  </tbody>\n",
       "</table>\n",
       "<p>10381 rows × 3 columns</p>\n",
       "</div>"
      ],
      "text/plain": [
       "                                      0                   1  \\\n",
       "0                                Yellow            Coldplay   \n",
       "1                            Without Me              Eminem   \n",
       "2                            In the End         Linkin Park   \n",
       "3    Hips Don't Lie (feat. Wyclef Jean)             Shakira   \n",
       "4    Hips Don't Lie (feat. Wyclef Jean)         Wyclef Jean   \n",
       "..                                  ...                 ...   \n",
       "197                        I Wanna Rock      Twisted Sister   \n",
       "198            All Along the Watchtower        Jimi Hendrix   \n",
       "199     We Got The Beat - 2011 Remaster         The Go-Go's   \n",
       "200                       Tumbling Dice  The Rolling Stones   \n",
       "201          Everywhere - 2017 Remaster       Fleetwood Mac   \n",
       "\n",
       "                                        2  \n",
       "0    spotify:track:3AJwUDP919kvQ9QcozQPxg  \n",
       "1    spotify:track:7lQ8MOhq6IN2w8EYcFNSUk  \n",
       "2    spotify:track:60a0Rd6pjrkxjPbaKzXjfq  \n",
       "3    spotify:track:3ZFTkvIE7kyPt6Nu3PEa7V  \n",
       "4    spotify:track:3ZFTkvIE7kyPt6Nu3PEa7V  \n",
       "..                                    ...  \n",
       "197  spotify:track:70Z9t1qhytWtG4cCmmi7mU  \n",
       "198  spotify:track:2aoo2jlRnM3A0NyLQqMN2f  \n",
       "199  spotify:track:5o37x6LpNSec4jSfPIChsQ  \n",
       "200  spotify:track:4hq0S6wznq7SHDyMOFXL9i  \n",
       "201  spotify:track:254bXAqt3zP6P50BdQvEsq  \n",
       "\n",
       "[10381 rows x 3 columns]"
      ]
     },
     "execution_count": 65,
     "metadata": {},
     "output_type": "execute_result"
    }
   ],
   "source": [
    "tracks"
   ]
  },
  {
   "cell_type": "code",
   "execution_count": 66,
   "id": "376f3835",
   "metadata": {},
   "outputs": [],
   "source": [
    "tracks = tracks.rename(columns={0: \"track_title\", 1: \"track_artist\", 2: \"track_uri\"})"
   ]
  },
  {
   "cell_type": "code",
   "execution_count": 67,
   "id": "5e0354bd",
   "metadata": {},
   "outputs": [
    {
     "data": {
      "text/html": [
       "<div>\n",
       "<style scoped>\n",
       "    .dataframe tbody tr th:only-of-type {\n",
       "        vertical-align: middle;\n",
       "    }\n",
       "\n",
       "    .dataframe tbody tr th {\n",
       "        vertical-align: top;\n",
       "    }\n",
       "\n",
       "    .dataframe thead th {\n",
       "        text-align: right;\n",
       "    }\n",
       "</style>\n",
       "<table border=\"1\" class=\"dataframe\">\n",
       "  <thead>\n",
       "    <tr style=\"text-align: right;\">\n",
       "      <th></th>\n",
       "      <th>track_title</th>\n",
       "      <th>track_artist</th>\n",
       "      <th>track_uri</th>\n",
       "    </tr>\n",
       "  </thead>\n",
       "  <tbody>\n",
       "    <tr>\n",
       "      <th>0</th>\n",
       "      <td>Yellow</td>\n",
       "      <td>Coldplay</td>\n",
       "      <td>spotify:track:3AJwUDP919kvQ9QcozQPxg</td>\n",
       "    </tr>\n",
       "    <tr>\n",
       "      <th>1</th>\n",
       "      <td>Without Me</td>\n",
       "      <td>Eminem</td>\n",
       "      <td>spotify:track:7lQ8MOhq6IN2w8EYcFNSUk</td>\n",
       "    </tr>\n",
       "    <tr>\n",
       "      <th>2</th>\n",
       "      <td>In the End</td>\n",
       "      <td>Linkin Park</td>\n",
       "      <td>spotify:track:60a0Rd6pjrkxjPbaKzXjfq</td>\n",
       "    </tr>\n",
       "    <tr>\n",
       "      <th>3</th>\n",
       "      <td>Hips Don't Lie (feat. Wyclef Jean)</td>\n",
       "      <td>Shakira</td>\n",
       "      <td>spotify:track:3ZFTkvIE7kyPt6Nu3PEa7V</td>\n",
       "    </tr>\n",
       "    <tr>\n",
       "      <th>4</th>\n",
       "      <td>Hips Don't Lie (feat. Wyclef Jean)</td>\n",
       "      <td>Wyclef Jean</td>\n",
       "      <td>spotify:track:3ZFTkvIE7kyPt6Nu3PEa7V</td>\n",
       "    </tr>\n",
       "    <tr>\n",
       "      <th>...</th>\n",
       "      <td>...</td>\n",
       "      <td>...</td>\n",
       "      <td>...</td>\n",
       "    </tr>\n",
       "    <tr>\n",
       "      <th>197</th>\n",
       "      <td>I Wanna Rock</td>\n",
       "      <td>Twisted Sister</td>\n",
       "      <td>spotify:track:70Z9t1qhytWtG4cCmmi7mU</td>\n",
       "    </tr>\n",
       "    <tr>\n",
       "      <th>198</th>\n",
       "      <td>All Along the Watchtower</td>\n",
       "      <td>Jimi Hendrix</td>\n",
       "      <td>spotify:track:2aoo2jlRnM3A0NyLQqMN2f</td>\n",
       "    </tr>\n",
       "    <tr>\n",
       "      <th>199</th>\n",
       "      <td>We Got The Beat - 2011 Remaster</td>\n",
       "      <td>The Go-Go's</td>\n",
       "      <td>spotify:track:5o37x6LpNSec4jSfPIChsQ</td>\n",
       "    </tr>\n",
       "    <tr>\n",
       "      <th>200</th>\n",
       "      <td>Tumbling Dice</td>\n",
       "      <td>The Rolling Stones</td>\n",
       "      <td>spotify:track:4hq0S6wznq7SHDyMOFXL9i</td>\n",
       "    </tr>\n",
       "    <tr>\n",
       "      <th>201</th>\n",
       "      <td>Everywhere - 2017 Remaster</td>\n",
       "      <td>Fleetwood Mac</td>\n",
       "      <td>spotify:track:254bXAqt3zP6P50BdQvEsq</td>\n",
       "    </tr>\n",
       "  </tbody>\n",
       "</table>\n",
       "<p>10381 rows × 3 columns</p>\n",
       "</div>"
      ],
      "text/plain": [
       "                            track_title        track_artist  \\\n",
       "0                                Yellow            Coldplay   \n",
       "1                            Without Me              Eminem   \n",
       "2                            In the End         Linkin Park   \n",
       "3    Hips Don't Lie (feat. Wyclef Jean)             Shakira   \n",
       "4    Hips Don't Lie (feat. Wyclef Jean)         Wyclef Jean   \n",
       "..                                  ...                 ...   \n",
       "197                        I Wanna Rock      Twisted Sister   \n",
       "198            All Along the Watchtower        Jimi Hendrix   \n",
       "199     We Got The Beat - 2011 Remaster         The Go-Go's   \n",
       "200                       Tumbling Dice  The Rolling Stones   \n",
       "201          Everywhere - 2017 Remaster       Fleetwood Mac   \n",
       "\n",
       "                                track_uri  \n",
       "0    spotify:track:3AJwUDP919kvQ9QcozQPxg  \n",
       "1    spotify:track:7lQ8MOhq6IN2w8EYcFNSUk  \n",
       "2    spotify:track:60a0Rd6pjrkxjPbaKzXjfq  \n",
       "3    spotify:track:3ZFTkvIE7kyPt6Nu3PEa7V  \n",
       "4    spotify:track:3ZFTkvIE7kyPt6Nu3PEa7V  \n",
       "..                                    ...  \n",
       "197  spotify:track:70Z9t1qhytWtG4cCmmi7mU  \n",
       "198  spotify:track:2aoo2jlRnM3A0NyLQqMN2f  \n",
       "199  spotify:track:5o37x6LpNSec4jSfPIChsQ  \n",
       "200  spotify:track:4hq0S6wznq7SHDyMOFXL9i  \n",
       "201  spotify:track:254bXAqt3zP6P50BdQvEsq  \n",
       "\n",
       "[10381 rows x 3 columns]"
      ]
     },
     "execution_count": 67,
     "metadata": {},
     "output_type": "execute_result"
    }
   ],
   "source": [
    "tracks"
   ]
  },
  {
   "cell_type": "code",
   "execution_count": 68,
   "id": "0a4f2ce0",
   "metadata": {},
   "outputs": [],
   "source": [
    "tracks.to_csv('trackslist.csv')  "
   ]
  },
  {
   "cell_type": "code",
   "execution_count": null,
   "id": "22033d55",
   "metadata": {},
   "outputs": [],
   "source": []
  }
 ],
 "metadata": {
  "kernelspec": {
   "display_name": "Python 3 (ipykernel)",
   "language": "python",
   "name": "python3"
  },
  "language_info": {
   "codemirror_mode": {
    "name": "ipython",
    "version": 3
   },
   "file_extension": ".py",
   "mimetype": "text/x-python",
   "name": "python",
   "nbconvert_exporter": "python",
   "pygments_lexer": "ipython3",
   "version": "3.10.9"
  }
 },
 "nbformat": 4,
 "nbformat_minor": 5
}
